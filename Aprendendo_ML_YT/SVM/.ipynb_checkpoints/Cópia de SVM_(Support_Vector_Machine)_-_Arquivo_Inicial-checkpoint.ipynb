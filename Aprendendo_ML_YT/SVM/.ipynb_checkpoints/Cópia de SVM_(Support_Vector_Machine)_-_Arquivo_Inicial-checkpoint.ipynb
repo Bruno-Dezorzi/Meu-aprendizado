{
 "cells": [
  {
   "cell_type": "markdown",
   "id": "aff31224",
   "metadata": {
    "editable": true,
    "slideshow": {
     "slide_type": ""
    },
    "tags": []
   },
   "source": [
    "# O SVM (Support Vector Machine)\n",
    "- Utilizando o dataset iris, podemos utilizar apenas a coluna petal width (cm) e visualizar a seguinte classificação dos dados:\n",
    "<img src=\"https://drive.google.com/uc?id=1uEDHjpB-etkcNadcNYbBZqZeOBrIhCLi\" style='width: 600px;' />\n",
    "<br>\n",
    "- Se tivermos um novo ponto, como o mostrado em vermelho, automaticamente já vamos pensar que esse ponto possui a mesma classe dos pontos em roxo:\n",
    "<img src=\"https://drive.google.com/uc?id=1iYYZoHp4B9Suh6sI2H7G6G2WI6M-RKFP\" style='width: 600px;' />\n",
    "<br>\n",
    "- Da mesma forma, tendemos a pensar que esse novo ponto deve ser classificado como amarelo:\n",
    "<img src=\"https://drive.google.com/uc?id=1dfMuwPa6-r7CW9btaWnkHn3hVEDykKw6\" style='width: 600px;' />\n",
    "<br>\n",
    "- E é uma lógica muito parecida com essa que temos no SVM\n",
    "<br>\n",
    "- Podemos basicamente pegar os pontos que estão mais no extremo dos dados (**os pontos de duas classes diferentes que estão mais próximos entre si**) e usar esses pontos para determinar um <font color='red'>**hiperplano**</font> capaz de separar essas classes\n",
    "<img src=\"https://drive.google.com/uc?id=1KoDBoT2Lcm31A-ebAuWLgilSEEeY4OlW\" style='width: 600px;' />\n",
    "- **Quanto maior a margem, melhor!**\n",
    "<br><br>\n",
    "- Um fato importante é que ele **pode ser utilizado tanto em dados linearmente separáveis** (como mostrado acima) **como em dados que não são linearmente separáveis** (que são a maioria dos nossos dados)\n",
    "    - Ele faz isso elevando as dimensões dos dados\n",
    "    - O SVM vai usar as funções de kernel e no próprio algoritmo ele vai buscar a melhor dimensão capaz de encontrar essa reta\n",
    "    - Só que ele não faz efetivamente essas transformações, ele só vai calcular a relação entre os pontos considerando que eles estão nessas dimensões. Isso é chamado de **\"Truque do Kernel\"**\n",
    "<br>\n",
    "<img src=\"https://drive.google.com/uc?id=1DpLpHou1tc4UayxKFglqb4I48EhjoktX\" style='width: 1000px;' />\n",
    "<br>\n",
    "- E por mais que a gente tenha visto em apenas 1D, ele funciona para qualquer dimensão dos dados\n",
    "<img src=\"https://drive.google.com/uc?id=17U2EPYj1pmbkXFimoLLP1mDWN0uiW3kP\" style='width: 400px;' />\n",
    "<br>\n",
    "- **É um algoritmo muito poderoso porém pode demorar muito tempo para treinar os dados**"
   ]
  },
  {
   "cell_type": "markdown",
   "id": "feb3b8f6",
   "metadata": {},
   "source": [
    "- **Para começar, podemos já usar o dataset iris**\n",
    "    - https://scikit-learn.org/stable/modules/generated/sklearn.datasets.load_iris.html#sklearn.datasets.load_iris"
   ]
  },
  {
   "cell_type": "code",
   "execution_count": 1,
   "id": "fe58926a",
   "metadata": {},
   "outputs": [],
   "source": [
    "# Importando o dataset\n",
    "from sklearn.datasets import load_iris\n",
    "X,y = load_iris(return_X_y = True, as_frame=True)"
   ]
  },
  {
   "cell_type": "code",
   "execution_count": 2,
   "id": "31fc1c7b",
   "metadata": {},
   "outputs": [],
   "source": [
    "# Considerando as duas colunas de pétala os targets 0 e 1\n",
    "X = X.loc[y.isin([0,1]),['petal length (cm)','petal width (cm)']]\n",
    "y = y[y.isin([0,1])]"
   ]
  },
  {
   "cell_type": "markdown",
   "id": "c5a59653",
   "metadata": {},
   "source": [
    "- E separar em treino e teste\n",
    "    - https://scikit-learn.org/stable/modules/generated/sklearn.model_selection.train_test_split.html"
   ]
  },
  {
   "cell_type": "code",
   "execution_count": 3,
   "id": "13e142e5",
   "metadata": {},
   "outputs": [],
   "source": [
    "# Separando em treino e teste\n",
    "from sklearn.model_selection import train_test_split\n",
    "X_train, X_test, y_train, y_test = train_test_split(X, y, test_size=0.33, random_state=42)"
   ]
  },
  {
   "cell_type": "markdown",
   "id": "bf7363a5",
   "metadata": {},
   "source": [
    "- Visualizando graficamente essas informações\n",
    "    - https://matplotlib.org/stable/plot_types/basic/scatter_plot.html#sphx-glr-plot-types-basic-scatter-plot-py"
   ]
  },
  {
   "cell_type": "code",
   "execution_count": 4,
   "id": "a94e5e0f",
   "metadata": {},
   "outputs": [
    {
     "data": {
      "image/png": "[encoded data removed]",
      "text/plain": [
       "<Figure size 640x480 with 1 Axes>"
      ]
     },
     "metadata": {},
     "output_type": "display_data"
    }
   ],
   "source": [
    "# Visualizando graficamente\n",
    "import matplotlib.pyplot as plt\n",
    "import numpy as np\n",
    "\n",
    "fig, ax = plt.subplots()\n",
    "\n",
    "ax.scatter(X_train['petal length (cm)'], X_train['petal width (cm)'],c=y_train,s=60)\n",
    "\n",
    "plt.show()"
   ]
  },
  {
   "cell_type": "markdown",
   "id": "79b61072",
   "metadata": {},
   "source": [
    "- **Utilizando o SVC**\n",
    "    - https://scikit-learn.org/stable/modules/generated/sklearn.svm.SVC.html#sklearn.svm.SVC"
   ]
  },
  {
   "cell_type": "code",
   "execution_count": null,
   "id": "67481345",
   "metadata": {},
   "outputs": [],
   "source": [
    "# Importando o SVC"
   ]
  },
  {
   "cell_type": "code",
   "execution_count": null,
   "id": "36564fb0",
   "metadata": {},
   "outputs": [],
   "source": [
    "# Criando o classificador e já fazendo o fit com os dados"
   ]
  },
  {
   "cell_type": "code",
   "execution_count": null,
   "id": "8980ff38",
   "metadata": {},
   "outputs": [],
   "source": [
    "# Visualizando o coef"
   ]
  },
  {
   "cell_type": "code",
   "execution_count": null,
   "id": "7f593897",
   "metadata": {},
   "outputs": [],
   "source": [
    "# Separando w1"
   ]
  },
  {
   "cell_type": "code",
   "execution_count": null,
   "id": "ed7b4d72",
   "metadata": {},
   "outputs": [],
   "source": [
    "# e w2"
   ]
  },
  {
   "cell_type": "code",
   "execution_count": null,
   "id": "da644546",
   "metadata": {},
   "outputs": [],
   "source": [
    "# E agora utilizando o intercept_ como w0"
   ]
  },
  {
   "cell_type": "markdown",
   "id": "e79ef97c",
   "metadata": {},
   "source": [
    "- Para traçar a reta, podemos considerar que a equação da reta será dada por:\n",
    "    - y = ax + b\n",
    "- Para considerar os dois coeficientes, também podemos escrever como:\n",
    "    - w1.X_train[0] + w2.X_train[1] + w0 = 0\n",
    "    - w1.X_train['petal width (cm)'] + w2.X_train['petal length (cm)'] + w0 = 0\n",
    "    - Sendo x = X_train['petal width (cm)'] e y = X_train['petal length (cm)']:\n",
    "        - w1.x + w2.y + w0 = 0\n",
    "        - w2.y = -w1.x - w0\n",
    "        - y = (-w1.x - w0)/w2"
   ]
  },
  {
   "cell_type": "code",
   "execution_count": null,
   "id": "657953fd",
   "metadata": {},
   "outputs": [],
   "source": [
    "# Traçando essa reta no gráfico"
   ]
  },
  {
   "cell_type": "code",
   "execution_count": null,
   "id": "c2221e15",
   "metadata": {},
   "outputs": [],
   "source": [
    "# Além disso, também podemos ver quais foram os vetores de suporte utilizados para traçar essa reta"
   ]
  },
  {
   "cell_type": "code",
   "execution_count": null,
   "id": "3a72f0a6",
   "metadata": {},
   "outputs": [],
   "source": [
    "# Pegando os valores de x"
   ]
  },
  {
   "cell_type": "code",
   "execution_count": null,
   "id": "4a95bcc4",
   "metadata": {},
   "outputs": [],
   "source": [
    "# E os valores de y"
   ]
  },
  {
   "cell_type": "code",
   "execution_count": null,
   "id": "85dda60d",
   "metadata": {},
   "outputs": [],
   "source": [
    "# Visualizando esses pontos"
   ]
  },
  {
   "cell_type": "markdown",
   "id": "1bac69ef",
   "metadata": {},
   "source": [
    "- **Agora podemos usar toda a nossa base de dados**"
   ]
  },
  {
   "cell_type": "code",
   "execution_count": null,
   "id": "525601a3",
   "metadata": {},
   "outputs": [],
   "source": [
    "# Importando o dataset"
   ]
  },
  {
   "cell_type": "code",
   "execution_count": null,
   "id": "b7cd8d0d",
   "metadata": {},
   "outputs": [],
   "source": [
    "# Separando em treino e teste"
   ]
  },
  {
   "cell_type": "code",
   "execution_count": null,
   "id": "8c04fb01",
   "metadata": {},
   "outputs": [],
   "source": [
    "# Criando o classificador"
   ]
  },
  {
   "cell_type": "code",
   "execution_count": null,
   "id": "b0520f1d",
   "metadata": {},
   "outputs": [],
   "source": [
    "# Fazendo a previsão"
   ]
  },
  {
   "cell_type": "code",
   "execution_count": null,
   "id": "71348273",
   "metadata": {},
   "outputs": [],
   "source": [
    "# E analisando a matriz de confusão"
   ]
  }
 ],
 "metadata": {
  "kernelspec": {
   "display_name": "Python 3 (ipykernel)",
   "language": "python",
   "name": "python3"
  },
  "language_info": {
   "codemirror_mode": {
    "name": "ipython",
    "version": 3
   },
   "file_extension": ".py",
   "mimetype": "text/x-python",
   "name": "python",
   "nbconvert_exporter": "python",
   "pygments_lexer": "ipython3",
   "version": "3.11.7"
  }
 },
 "nbformat": 4,
 "nbformat_minor": 5
}
