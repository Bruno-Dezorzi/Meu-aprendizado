





# Importando o dataset
from sklearn.datasets import load_iris
X,y = load_iris(return_X_y = True, as_frame=True)








X,y








# Separando em treino e teste
from sklearn.model_selection import train_test_split
X_train, X_test, y_train, y_test = train_test_split(X, y, test_size=0.33, random_state=42)





# Visualizando graficamente
import matplotlib.pyplot as plt
import numpy as np

fig, ax = plt.subplots()

ax.scatter(X_train['petal length (cm)'], X_train['petal width (cm)'],c=y_train,s=60)

plt.show()





# Importando o SVC


# Criando o classificador e já fazendo o fit com os dados


# Visualizando o coef


# Separando w1


# e w2


# E agora utilizando o intercept_ como w0





# Traçando essa reta no gráfico


# Além disso, também podemos ver quais foram os vetores de suporte utilizados para traçar essa reta


# Pegando os valores de x


# E os valores de y


# Visualizando esses pontos





# Importando o dataset


# Separando em treino e teste


# Criando o classificador


# Fazendo a previsão


# E analisando a matriz de confusão
