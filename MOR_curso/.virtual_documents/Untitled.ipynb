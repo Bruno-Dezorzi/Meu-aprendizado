import pandas as pd
import matplotlib.pyplot as plt
import numpy as np
import sklearn.linear_model


oecd = pd.read_csv('OECD,DF_BLI,+all.csv',thousands=',')


oecd.head()


gdp = pd.read_excel("WEO_Data.xls", sheet_name="WEO_Data", engine='xlrd')
