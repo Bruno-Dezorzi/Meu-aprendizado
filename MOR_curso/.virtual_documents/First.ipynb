import pandas as pd
import matplotlib.pyplot as plt
import numpy as np
import sklearn.linear_model


oecd = pd.read_csv('OECD,DF_BLI,+all.csv',thousands=',')


oecd.head()


gdp = pd.read_csv("API_NY.GDP.PCAP.CD_DS2_en_csv_v2_1063727.csv", skiprows= 4)
gdp.head()


X = np.c_[]
