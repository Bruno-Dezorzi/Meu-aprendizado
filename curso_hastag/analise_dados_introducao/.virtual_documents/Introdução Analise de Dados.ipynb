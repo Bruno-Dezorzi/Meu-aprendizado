





import pandas as pd

tabela = pd.read_excel('Vendas.xlsx', sheet_name='Plan1')
print(tabela.shape)
display(tabela.head())





faturamento_total = tabela['Valor Final'].sum()
print(faturamento_total)

print()






faturamento_total_empresa = tabela.groupby('ID Loja')['Valor Final'].sum()
print(faturamento_total_empresa.sort_values(ascending = False))

print()

quantidade_produtos_total_empresa = tabela.groupby('ID Loja')['Quantidade'].sum().sort_values(ascending = False)
print(quantidade_produtos_total_empresa)

print()

preco_max_loja =  tabela.groupby('ID Loja')['Valor Unitário'].max()
print(preco_max_loja)





faturamento_por_produto = tabela[['ID Loja','Produto','Valor Final']].groupby(['ID Loja','Produto']).sum()#.sort_values( ascending = False)
display(faturamento_por_produto);



