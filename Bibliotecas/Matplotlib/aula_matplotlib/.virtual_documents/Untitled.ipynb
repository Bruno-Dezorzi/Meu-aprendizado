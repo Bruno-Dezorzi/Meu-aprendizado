


import matplotlib.pyplot as plt
import numpy as np
get_ipython().run_line_magic("matplotlib", " inline")


# A Simple Exemple
fig, ax = plt.subplots()


fig, ax = plt.subplots()
ax.plot([1,2,3,4],[3,4,2,6])
plt.show()


# Figure
fig = plt.figure()
fig, ax = plt.subplots()


fig, axs = plt.subplots(2,2)


fig, axs = plt.subplot_mosaic([['left', 'right_top'],
                               ['left', 'right_bottom']])



