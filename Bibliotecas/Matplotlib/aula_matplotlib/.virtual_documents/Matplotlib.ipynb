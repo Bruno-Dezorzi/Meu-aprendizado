








import matplotlib.pyplot as plt
get_ipython().run_line_magic("matplotlib", " inline")





x =[1,2,3,4]
y = [2,3,4,3]

plt.plot(x, y)
plt.show()





x =[1,2,3,4]
y = [2,3,4,3]
plt.plot( x, y, label='dados' )
plt.ylabel('Eixo y')
plt.xlabel('Eixo x')
plt.title('Título do Gráfico')
plt.xticks([0,2,4,6,8,9])
plt.yticks([-1,3,5,9,11])
plt.legend()
plt.show()





plt.plot (x,y,ls=':', color='#611710', lw=10.0)
plt.show()





plt.scatter(x,y, color = 'k')
plt.show()





plt.bar(x,y, color = 'r')
plt.show()








plt.scatter(x,y, color = 'k', marker = 'v')
plt.show()





plt.plot(x,y)
plt.axis('square')
plt.show()









valoresx = [1, 2, 3, 4]
valoresy = [1, 4, 2, 3]


figura = plt.figure(figsize=(20,5))
figura.suptitle('Título Geral')


figura.add_subplot(131)
plt.plot(valoresx, valoresy, label='Um dado qualquer')
plt.legend()
plt.title('Gráfico 1')

figura.add_subplot(132)
plt.scatter(valoresx,valoresy)
plt.title('Gráfico 2')

figura.add_subplot(133)
plt.bar(valoresx, valoresy)
plt.title('Gráfico 3')

#plt.savefig('gráficos.png')

plt.show(figura)





import pandas as pd

cotacao_df = pd.read_csv("archive\indexData.csv")
display(cotacao_df)


cotacao_df1 = cotacao_df[['Index','Date','Close']]
display(cotacao_df1)


dfremove = cotacao_df1.loc[(cotacao_df1['Index']!='NYA')]
cotacao_dffinal = cotacao_df1.drop(dfremove.index)
display(cotacao_dffinal)
cotacao_dffinal = cotacao_dffinal[13900:]
display(cotacao_dffinal)


plt.figure(figsize=(20,4))
plt.plot(cotacao_dffinal['Date'], cotacao_dffinal['Close'], label ='NYA', color = 'g', ls='--', lw="2")
plt.legend( loc= 2, fontsize= 18)
plt.ylabel('Valor do Fechamento')
plt.xlabel('Data da Cotação')
plt.title('Gráfico de cotação histórica da Bolsa NYA')
plt.xticks(['2021-03-23','2021-04-23', '2021-05-03'])

plt.show()












